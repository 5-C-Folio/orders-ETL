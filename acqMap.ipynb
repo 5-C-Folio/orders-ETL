{
 "cells": [
  {
   "cell_type": "code",
   "execution_count": 2,
   "metadata": {},
   "outputs": [],
   "source": [
    "import cx_Oracle\n",
    "cx_Oracle.init_oracle_client(lib_dir=r\"C:\\\\oracle\\\\instantclient_12_1\")\n",
    "import json"
   ]
  },
  {
   "cell_type": "code",
   "execution_count": 3,
   "id": "28c3b5f4",
   "metadata": {},
   "outputs": [],
   "source": [
    "import pandas as pd"
   ]
  },
  {
   "cell_type": "code",
   "execution_count": 4,
   "id": "9e25da7c",
   "metadata": {},
   "outputs": [
    {
     "data": {
      "text/plain": [
       "{'user': '5C_READ',\n",
       " 'password': 'odbc201009',\n",
       " 'server': 'FCAA.LIBRARY.UMASS.EDU:1521/ALEPH22P'}"
      ]
     },
     "execution_count": 4,
     "metadata": {},
     "output_type": "execute_result"
    }
   ],
   "source": [
    "pw = open(\"C:\\\\Users\\\\aneslin\\\\Documents\\\\python\\\\item-remap\\\\passwords.json\")\n",
    "x = json.load(pw)\n",
    "x"
   ]
  },
  {
   "cell_type": "code",
   "execution_count": 5,
   "id": "04b4632a",
   "metadata": {},
   "outputs": [],
   "source": [
    "pool = cx_Oracle.connect(user=x[\"user\"], password = x[\"password\"], dsn = x[\"server\"])"
   ]
  },
  {
   "cell_type": "code",
   "execution_count": 6,
   "id": "cace9350",
   "metadata": {},
   "outputs": [],
   "source": [
    "query = ''' \n",
    "select\n",
    "'ac' as prefix,\n",
    "substr(ord.Z68_REC_KEY,0,9),\n",
    "ord.Z68_ORDER_Type ,\n",
    "rr.z13key\n",
    ",\n",
    " ord.Z68_Order_NUMBER,\n",
    " ord.Z68_ORDER_NUMBER_1,\n",
    " ord.Z68_ORDER_NUMBER_2,\n",
    "ord.Z68_ORDER_GROUP,\n",
    "ord.Z68_LIBRARY_NOTE,\n",
    "ord.z68_e_note,\n",
    "ord.Z68_OPEN_DATE,\n",
    "ord.z68_ORDER_DATE,\n",
    "ord.Z68_ORDER_STATUS,\n",
    "ord.z68_invoice_status,\n",
    "ord.Z68_ORDER_STATUS ,\n",
    "ord.Z68_ORDER_STATUS_DATE_X,\n",
    "ord.z68_method_of_aquisition,\n",
    "concat('AC' ,ord.Z68_VENDOR_CODE) as vendorCode,\n",
    "budName.fundName,\n",
    "ord.z68_vendor_note,\n",
    "ord.Z68_NO_UNITS,\n",
    "ord.Z68_UNIT_PRICE,\n",
    "ord.Z68_TARGeT_TEXT,\n",
    "ord.z68_subscription_date_from,\n",
    "ord.z68_subscription_date_to,\n",
    "ord.Z68_SUBSCRIPTION_RENEW_DATE,\n",
    "rr.Z13_TITLE,\n",
    "rr.author,\n",
    "ord.z68_isbn,\n",
    "ord.z68_material_type,\n",
    "ord.z68_vendor_reference_no\n",
    "-- Umass and Smith will use the same export critera as Amherst. To run the Umass query, change the AMH50.Z68 and AMH50.Z103 to UMA50.Z68 and UMA.Z103.\n",
    "-- you will also need to change the org code prefix to UM or SC\n",
    "from AMH50.Z68 ord\n",
    "LEFT join\n",
    "(\n",
    "    select brief.Z13_REC_KEY as z13key , brief.Z13_TITLE,brief.Z13_author as author ,substr(lkr.Z103_REC_KEY,6,9) as ADM_N from\n",
    "    AMH50.Z103 lkr\n",
    "    inner join\n",
    "    FCL01.z13 brief\n",
    "    on SUBSTR(brief.Z13_REC_KEY, 0,9) = substr(lkr.Z103_REC_KEY_1,6,9)\n",
    "    and lkr.Z103_LKR_TYPE='ADM'\n",
    "    and substr(lkr.Z103_REC_KEY_1,1,5)='FCL01'\n",
    ") rr\n",
    "on substr(ord.Z68_REC_KEY ,0, 9) = rr.ADM_N\n",
    "left join\n",
    "( \n",
    "Select ordnum, substr(Z601_REC_KEY ,0, 50) as fundName from \n",
    "    (\n",
    "    select Z601_REC_KEY, substr(Z601_REC_KEY_3,0,9) as ordnum, max(substr(Z601_REC_KEY,50,25)) over (partition by substr(Z601_REC_KEY_3,0,9)) as max_open_date from AMH50.Z601 where substr(Z601_REC_KEY_3,0,9)<>'000000000'\n",
    "    ) \n",
    "    where max_open_date=substr(Z601_REC_KEY ,50,25)\n",
    ") budName\n",
    "on rr.ADM_N = budname.ordnum\n",
    "WHERE\n",
    "(ord.Z68_ORDER_TYPE = 'S'\n",
    "and ord.Z68_ORDER_STATUS = 'SV'\n",
    ")\n",
    "OR\n",
    "(ord.Z68_ORDER_TYPE = 'O'\n",
    "and ord.Z68_ORDER_STATUS = 'SV')\n",
    "OR\n",
    "(ord.Z68_ORDER_TYPE = 'M'\n",
    "and ord.Z68_ORDER_STATUS = 'SV'\n",
    "and ord.Z68_OPEN_DATE > 20190701)\n",
    "'''"
   ]
  },
  {
   "cell_type": "code",
   "execution_count": 7,
   "id": "4f35e48f",
   "metadata": {},
   "outputs": [],
   "source": [
    "cursor = pool.cursor()"
   ]
  },
  {
   "cell_type": "code",
   "execution_count": 8,
   "id": "d3a65c47",
   "metadata": {},
   "outputs": [
    {
     "data": {
      "text/plain": [
       "<cx_Oracle.Cursor on <cx_Oracle.Connection to 5C_READ@FCAA.LIBRARY.UMASS.EDU:1521/ALEPH22P>>"
      ]
     },
     "execution_count": 8,
     "metadata": {},
     "output_type": "execute_result"
    }
   ],
   "source": [
    "cursor.execute(query)"
   ]
  },
  {
   "cell_type": "code",
   "execution_count": 9,
   "id": "5bb3b516",
   "metadata": {},
   "outputs": [],
   "source": [
    "def makeDictFactory(cursor):\n",
    "    columnNames = [d[0] for d in cursor.description]\n",
    "    def createRow(*args):\n",
    "        return dict(zip(columnNames, args))\n",
    "    return createRow"
   ]
  },
  {
   "cell_type": "code",
   "execution_count": 10,
   "id": "b555a8db",
   "metadata": {},
   "outputs": [],
   "source": [
    "cursor.rowfactory = makeDictFactory(cursor)"
   ]
  },
  {
   "cell_type": "code",
   "execution_count": 11,
   "id": "1079804b",
   "metadata": {},
   "outputs": [],
   "source": [
    "x = cursor.fetchall()"
   ]
  },
  {
   "cell_type": "code",
   "execution_count": 12,
   "id": "449cf2b9",
   "metadata": {},
   "outputs": [],
   "source": [
    "df = pd.DataFrame(x)"
   ]
  },
  {
   "cell_type": "code",
   "execution_count": 13,
   "id": "2e1f9e73",
   "metadata": {},
   "outputs": [],
   "source": [
    "df['Z13KEY']= df['Z13KEY'].str.strip()"
   ]
  },
  {
   "cell_type": "code",
   "execution_count": 14,
   "id": "5ce20ef2",
   "metadata": {},
   "outputs": [
    {
     "name": "stdout",
     "output_type": "stream",
     "text": [
      "<class 'pandas.core.frame.DataFrame'>\n",
      "RangeIndex: 2023 entries, 0 to 2022\n",
      "Data columns (total 30 columns):\n",
      " #   Column                       Non-Null Count  Dtype \n",
      "---  ------                       --------------  ----- \n",
      " 0   PREFIX                       2023 non-null   object\n",
      " 1   SUBSTR(ORD.Z68_REC_KEY,0,9)  2023 non-null   object\n",
      " 2   Z68_ORDER_TYPE               2023 non-null   object\n",
      " 3   Z13KEY                       2023 non-null   object\n",
      " 4   Z68_ORDER_NUMBER             2023 non-null   object\n",
      " 5   Z68_ORDER_NUMBER_1           221 non-null    object\n",
      " 6   Z68_ORDER_NUMBER_2           11 non-null     object\n",
      " 7   Z68_ORDER_GROUP              320 non-null    object\n",
      " 8   Z68_LIBRARY_NOTE             1816 non-null   object\n",
      " 9   Z68_E_NOTE                   67 non-null     object\n",
      " 10  Z68_OPEN_DATE                2023 non-null   int64 \n",
      " 11  Z68_ORDER_DATE               2023 non-null   int64 \n",
      " 12  Z68_ORDER_STATUS             2023 non-null   object\n",
      " 13  Z68_INVOICE_STATUS           1897 non-null   object\n",
      " 14  Z68_ORDER_STATUS_DATE_X      2023 non-null   object\n",
      " 15  Z68_METHOD_OF_AQUISITION     2023 non-null   object\n",
      " 16  VENDORCODE                   2023 non-null   object\n",
      " 17  FUNDNAME                     1966 non-null   object\n",
      " 18  Z68_VENDOR_NOTE              1002 non-null   object\n",
      " 19  Z68_NO_UNITS                 2023 non-null   int64 \n",
      " 20  Z68_UNIT_PRICE               1965 non-null   object\n",
      " 21  Z68_TARGET_TEXT              968 non-null    object\n",
      " 22  Z68_SUBSCRIPTION_DATE_FROM   2023 non-null   int64 \n",
      " 23  Z68_SUBSCRIPTION_DATE_TO     2023 non-null   int64 \n",
      " 24  Z68_SUBSCRIPTION_RENEW_DATE  2023 non-null   int64 \n",
      " 25  Z13_TITLE                    2023 non-null   object\n",
      " 26  AUTHOR                       548 non-null    object\n",
      " 27  Z68_ISBN                     966 non-null    object\n",
      " 28  Z68_MATERIAL_TYPE            2023 non-null   object\n",
      " 29  Z68_VENDOR_REFERENCE_NO      997 non-null    object\n",
      "dtypes: int64(6), object(24)\n",
      "memory usage: 474.3+ KB\n"
     ]
    }
   ],
   "source": [
    "df.info()\n"
   ]
  },
  {
   "cell_type": "code",
   "execution_count": 19,
   "id": "88a5513f",
   "metadata": {},
   "outputs": [
    {
     "ename": "TypeError",
     "evalue": "sequence item 1: expected str instance, NoneType found",
     "output_type": "error",
     "traceback": [
      "\u001b[1;31m---------------------------------------------------------------------------\u001b[0m",
      "\u001b[1;31mTypeError\u001b[0m                                 Traceback (most recent call last)",
      "\u001b[1;32m~\\AppData\\Local\\Temp/ipykernel_7444/1634372326.py\u001b[0m in \u001b[0;36m<module>\u001b[1;34m\u001b[0m\n\u001b[0;32m      1\u001b[0m \u001b[0mcols\u001b[0m \u001b[1;33m=\u001b[0m \u001b[1;33m[\u001b[0m\u001b[1;34m'Z68_LIBRARY_NOTE'\u001b[0m\u001b[1;33m,\u001b[0m \u001b[1;34m'Z68_ORDER_GROUP'\u001b[0m\u001b[1;33m,\u001b[0m\u001b[1;34m'FUNDNAME'\u001b[0m\u001b[1;33m]\u001b[0m\u001b[1;33m\u001b[0m\u001b[1;33m\u001b[0m\u001b[0m\n\u001b[1;32m----> 2\u001b[1;33m \u001b[0mdf\u001b[0m\u001b[1;33m[\u001b[0m\u001b[1;34m'notes'\u001b[0m\u001b[1;33m]\u001b[0m \u001b[1;33m=\u001b[0m \u001b[0mdf\u001b[0m\u001b[1;33m[\u001b[0m\u001b[0mcols\u001b[0m\u001b[1;33m]\u001b[0m\u001b[1;33m.\u001b[0m\u001b[0magg\u001b[0m\u001b[1;33m(\u001b[0m\u001b[1;34m\"; \"\u001b[0m\u001b[1;33m.\u001b[0m\u001b[0mjoin\u001b[0m\u001b[1;33m,\u001b[0m \u001b[0maxis\u001b[0m \u001b[1;33m=\u001b[0m \u001b[1;36m1\u001b[0m\u001b[1;33m)\u001b[0m\u001b[1;33m\u001b[0m\u001b[1;33m\u001b[0m\u001b[0m\n\u001b[0m",
      "\u001b[1;32m~\\.conda\\envs\\Oracle transformations\\lib\\site-packages\\pandas\\core\\frame.py\u001b[0m in \u001b[0;36maggregate\u001b[1;34m(self, func, axis, *args, **kwargs)\u001b[0m\n\u001b[0;32m   8548\u001b[0m \u001b[1;33m\u001b[0m\u001b[0m\n\u001b[0;32m   8549\u001b[0m         \u001b[0mop\u001b[0m \u001b[1;33m=\u001b[0m \u001b[0mframe_apply\u001b[0m\u001b[1;33m(\u001b[0m\u001b[0mself\u001b[0m\u001b[1;33m,\u001b[0m \u001b[0mfunc\u001b[0m\u001b[1;33m=\u001b[0m\u001b[0mfunc\u001b[0m\u001b[1;33m,\u001b[0m \u001b[0maxis\u001b[0m\u001b[1;33m=\u001b[0m\u001b[0maxis\u001b[0m\u001b[1;33m,\u001b[0m \u001b[0margs\u001b[0m\u001b[1;33m=\u001b[0m\u001b[0margs\u001b[0m\u001b[1;33m,\u001b[0m \u001b[0mkwargs\u001b[0m\u001b[1;33m=\u001b[0m\u001b[0mkwargs\u001b[0m\u001b[1;33m)\u001b[0m\u001b[1;33m\u001b[0m\u001b[1;33m\u001b[0m\u001b[0m\n\u001b[1;32m-> 8550\u001b[1;33m         \u001b[0mresult\u001b[0m \u001b[1;33m=\u001b[0m \u001b[0mop\u001b[0m\u001b[1;33m.\u001b[0m\u001b[0magg\u001b[0m\u001b[1;33m(\u001b[0m\u001b[1;33m)\u001b[0m\u001b[1;33m\u001b[0m\u001b[1;33m\u001b[0m\u001b[0m\n\u001b[0m\u001b[0;32m   8551\u001b[0m \u001b[1;33m\u001b[0m\u001b[0m\n\u001b[0;32m   8552\u001b[0m         \u001b[1;32mif\u001b[0m \u001b[0mrelabeling\u001b[0m\u001b[1;33m:\u001b[0m\u001b[1;33m\u001b[0m\u001b[1;33m\u001b[0m\u001b[0m\n",
      "\u001b[1;32m~\\.conda\\envs\\Oracle transformations\\lib\\site-packages\\pandas\\core\\apply.py\u001b[0m in \u001b[0;36magg\u001b[1;34m(self)\u001b[0m\n\u001b[0;32m    713\u001b[0m \u001b[1;33m\u001b[0m\u001b[0m\n\u001b[0;32m    714\u001b[0m         \u001b[1;32mif\u001b[0m \u001b[0mresult\u001b[0m \u001b[1;32mis\u001b[0m \u001b[1;32mNone\u001b[0m\u001b[1;33m:\u001b[0m\u001b[1;33m\u001b[0m\u001b[1;33m\u001b[0m\u001b[0m\n\u001b[1;32m--> 715\u001b[1;33m             \u001b[0mresult\u001b[0m \u001b[1;33m=\u001b[0m \u001b[0mself\u001b[0m\u001b[1;33m.\u001b[0m\u001b[0mobj\u001b[0m\u001b[1;33m.\u001b[0m\u001b[0mapply\u001b[0m\u001b[1;33m(\u001b[0m\u001b[0mself\u001b[0m\u001b[1;33m.\u001b[0m\u001b[0morig_f\u001b[0m\u001b[1;33m,\u001b[0m \u001b[0maxis\u001b[0m\u001b[1;33m,\u001b[0m \u001b[0margs\u001b[0m\u001b[1;33m=\u001b[0m\u001b[0mself\u001b[0m\u001b[1;33m.\u001b[0m\u001b[0margs\u001b[0m\u001b[1;33m,\u001b[0m \u001b[1;33m**\u001b[0m\u001b[0mself\u001b[0m\u001b[1;33m.\u001b[0m\u001b[0mkwargs\u001b[0m\u001b[1;33m)\u001b[0m\u001b[1;33m\u001b[0m\u001b[1;33m\u001b[0m\u001b[0m\n\u001b[0m\u001b[0;32m    716\u001b[0m \u001b[1;33m\u001b[0m\u001b[0m\n\u001b[0;32m    717\u001b[0m         \u001b[1;32mreturn\u001b[0m \u001b[0mresult\u001b[0m\u001b[1;33m\u001b[0m\u001b[1;33m\u001b[0m\u001b[0m\n",
      "\u001b[1;32m~\\.conda\\envs\\Oracle transformations\\lib\\site-packages\\pandas\\core\\frame.py\u001b[0m in \u001b[0;36mapply\u001b[1;34m(self, func, axis, raw, result_type, args, **kwargs)\u001b[0m\n\u001b[0;32m   8738\u001b[0m             \u001b[0mkwargs\u001b[0m\u001b[1;33m=\u001b[0m\u001b[0mkwargs\u001b[0m\u001b[1;33m,\u001b[0m\u001b[1;33m\u001b[0m\u001b[1;33m\u001b[0m\u001b[0m\n\u001b[0;32m   8739\u001b[0m         )\n\u001b[1;32m-> 8740\u001b[1;33m         \u001b[1;32mreturn\u001b[0m \u001b[0mop\u001b[0m\u001b[1;33m.\u001b[0m\u001b[0mapply\u001b[0m\u001b[1;33m(\u001b[0m\u001b[1;33m)\u001b[0m\u001b[1;33m\u001b[0m\u001b[1;33m\u001b[0m\u001b[0m\n\u001b[0m\u001b[0;32m   8741\u001b[0m \u001b[1;33m\u001b[0m\u001b[0m\n\u001b[0;32m   8742\u001b[0m     def applymap(\n",
      "\u001b[1;32m~\\.conda\\envs\\Oracle transformations\\lib\\site-packages\\pandas\\core\\apply.py\u001b[0m in \u001b[0;36mapply\u001b[1;34m(self)\u001b[0m\n\u001b[0;32m    686\u001b[0m             \u001b[1;32mreturn\u001b[0m \u001b[0mself\u001b[0m\u001b[1;33m.\u001b[0m\u001b[0mapply_raw\u001b[0m\u001b[1;33m(\u001b[0m\u001b[1;33m)\u001b[0m\u001b[1;33m\u001b[0m\u001b[1;33m\u001b[0m\u001b[0m\n\u001b[0;32m    687\u001b[0m \u001b[1;33m\u001b[0m\u001b[0m\n\u001b[1;32m--> 688\u001b[1;33m         \u001b[1;32mreturn\u001b[0m \u001b[0mself\u001b[0m\u001b[1;33m.\u001b[0m\u001b[0mapply_standard\u001b[0m\u001b[1;33m(\u001b[0m\u001b[1;33m)\u001b[0m\u001b[1;33m\u001b[0m\u001b[1;33m\u001b[0m\u001b[0m\n\u001b[0m\u001b[0;32m    689\u001b[0m \u001b[1;33m\u001b[0m\u001b[0m\n\u001b[0;32m    690\u001b[0m     \u001b[1;32mdef\u001b[0m \u001b[0magg\u001b[0m\u001b[1;33m(\u001b[0m\u001b[0mself\u001b[0m\u001b[1;33m)\u001b[0m\u001b[1;33m:\u001b[0m\u001b[1;33m\u001b[0m\u001b[1;33m\u001b[0m\u001b[0m\n",
      "\u001b[1;32m~\\.conda\\envs\\Oracle transformations\\lib\\site-packages\\pandas\\core\\apply.py\u001b[0m in \u001b[0;36mapply_standard\u001b[1;34m(self)\u001b[0m\n\u001b[0;32m    810\u001b[0m \u001b[1;33m\u001b[0m\u001b[0m\n\u001b[0;32m    811\u001b[0m     \u001b[1;32mdef\u001b[0m \u001b[0mapply_standard\u001b[0m\u001b[1;33m(\u001b[0m\u001b[0mself\u001b[0m\u001b[1;33m)\u001b[0m\u001b[1;33m:\u001b[0m\u001b[1;33m\u001b[0m\u001b[1;33m\u001b[0m\u001b[0m\n\u001b[1;32m--> 812\u001b[1;33m         \u001b[0mresults\u001b[0m\u001b[1;33m,\u001b[0m \u001b[0mres_index\u001b[0m \u001b[1;33m=\u001b[0m \u001b[0mself\u001b[0m\u001b[1;33m.\u001b[0m\u001b[0mapply_series_generator\u001b[0m\u001b[1;33m(\u001b[0m\u001b[1;33m)\u001b[0m\u001b[1;33m\u001b[0m\u001b[1;33m\u001b[0m\u001b[0m\n\u001b[0m\u001b[0;32m    813\u001b[0m \u001b[1;33m\u001b[0m\u001b[0m\n\u001b[0;32m    814\u001b[0m         \u001b[1;31m# wrap results\u001b[0m\u001b[1;33m\u001b[0m\u001b[1;33m\u001b[0m\u001b[1;33m\u001b[0m\u001b[0m\n",
      "\u001b[1;32m~\\.conda\\envs\\Oracle transformations\\lib\\site-packages\\pandas\\core\\apply.py\u001b[0m in \u001b[0;36mapply_series_generator\u001b[1;34m(self)\u001b[0m\n\u001b[0;32m    826\u001b[0m             \u001b[1;32mfor\u001b[0m \u001b[0mi\u001b[0m\u001b[1;33m,\u001b[0m \u001b[0mv\u001b[0m \u001b[1;32min\u001b[0m \u001b[0menumerate\u001b[0m\u001b[1;33m(\u001b[0m\u001b[0mseries_gen\u001b[0m\u001b[1;33m)\u001b[0m\u001b[1;33m:\u001b[0m\u001b[1;33m\u001b[0m\u001b[1;33m\u001b[0m\u001b[0m\n\u001b[0;32m    827\u001b[0m                 \u001b[1;31m# ignore SettingWithCopy here in case the user mutates\u001b[0m\u001b[1;33m\u001b[0m\u001b[1;33m\u001b[0m\u001b[1;33m\u001b[0m\u001b[0m\n\u001b[1;32m--> 828\u001b[1;33m                 \u001b[0mresults\u001b[0m\u001b[1;33m[\u001b[0m\u001b[0mi\u001b[0m\u001b[1;33m]\u001b[0m \u001b[1;33m=\u001b[0m \u001b[0mself\u001b[0m\u001b[1;33m.\u001b[0m\u001b[0mf\u001b[0m\u001b[1;33m(\u001b[0m\u001b[0mv\u001b[0m\u001b[1;33m)\u001b[0m\u001b[1;33m\u001b[0m\u001b[1;33m\u001b[0m\u001b[0m\n\u001b[0m\u001b[0;32m    829\u001b[0m                 \u001b[1;32mif\u001b[0m \u001b[0misinstance\u001b[0m\u001b[1;33m(\u001b[0m\u001b[0mresults\u001b[0m\u001b[1;33m[\u001b[0m\u001b[0mi\u001b[0m\u001b[1;33m]\u001b[0m\u001b[1;33m,\u001b[0m \u001b[0mABCSeries\u001b[0m\u001b[1;33m)\u001b[0m\u001b[1;33m:\u001b[0m\u001b[1;33m\u001b[0m\u001b[1;33m\u001b[0m\u001b[0m\n\u001b[0;32m    830\u001b[0m                     \u001b[1;31m# If we have a view on v, we need to make a copy because\u001b[0m\u001b[1;33m\u001b[0m\u001b[1;33m\u001b[0m\u001b[1;33m\u001b[0m\u001b[0m\n",
      "\u001b[1;31mTypeError\u001b[0m: sequence item 1: expected str instance, NoneType found"
     ]
    }
   ],
   "source": [
    "cols = ['Z68_LIBRARY_NOTE', 'Z68_ORDER_GROUP','FUNDNAME']\n",
    "df['notes'] = df[cols].agg(\"; \".join, axis = 1)"
   ]
  },
  {
   "cell_type": "code",
   "execution_count": 16,
   "id": "afc04915",
   "metadata": {},
   "outputs": [
    {
     "ename": "SyntaxError",
     "evalue": "invalid syntax (Temp/ipykernel_7444/755270441.py, line 1)",
     "output_type": "error",
     "traceback": [
      "\u001b[1;36m  File \u001b[1;32m\"C:\\Users\\aneslin\\AppData\\Local\\Temp/ipykernel_7444/755270441.py\"\u001b[1;36m, line \u001b[1;32m1\u001b[0m\n\u001b[1;33m    df2 = df[['PREFIX','Z68_ORDER_NUMBER', 'VENDORCODE', 'Z68_ORDER_TYPE', \"Z68_ORDER_STATUS\", \"Z68_METHOD_OF_AQUISITION\", pd.concat([df[\"Z68_ORDER_GROUP\"], df[\"FUNDNAME\"]] axis=1) ]]\u001b[0m\n\u001b[1;37m                                                                                                                                                                             ^\u001b[0m\n\u001b[1;31mSyntaxError\u001b[0m\u001b[1;31m:\u001b[0m invalid syntax\n"
     ]
    }
   ],
   "source": [
    "df2 = df[['PREFIX','Z68_ORDER_NUMBER', 'VENDORCODE', 'Z68_ORDER_TYPE', \"Z68_ORDER_STATUS\", \"Z68_METHOD_OF_AQUISITION\" ]]"
   ]
  },
  {
   "cell_type": "code",
   "execution_count": null,
   "id": "325dc942",
   "metadata": {},
   "outputs": [],
   "source": [
    "df2.rename(columns={'PREFIX': 'poNumberPrefix',\n",
    "'Z68_ORDER_NUMBER': 'poNumber',\n",
    "'Z68_ORDER_TYPE': 'orderType',\n",
    "\"Z68_ORDER_STATUS\": \"workflowStatus\",\n",
    "\"Z68_METHOD_OF_AQUISITION\": \"acquisitionMethod\"   \n",
    "   \n",
    "    }, inplace=True )"
   ]
  },
  {
   "cell_type": "code",
   "execution_count": null,
   "id": "b307e9aa",
   "metadata": {},
   "outputs": [],
   "source": [
    "df2.head()"
   ]
  }
 ],
 "metadata": {
  "interpreter": {
   "hash": "b3ba2566441a7c06988d0923437866b63cedc61552a5af99d1f4fb67d367b25f"
  },
  "kernelspec": {
   "display_name": "Python 3.8.8 64-bit ('base': conda)",
   "language": "python",
   "name": "python3"
  },
  "language_info": {
   "codemirror_mode": {
    "name": "ipython",
    "version": 3
   },
   "file_extension": ".py",
   "mimetype": "text/x-python",
   "name": "python",
   "nbconvert_exporter": "python",
   "pygments_lexer": "ipython3",
   "version": "3.9.7"
  }
 },
 "nbformat": 4,
 "nbformat_minor": 5
}
